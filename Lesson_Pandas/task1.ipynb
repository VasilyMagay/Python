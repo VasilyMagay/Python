{
 "cells": [
  {
   "cell_type": "markdown",
   "metadata": {},
   "source": [
    "# С использованием Pandas написать функцию, которая загружает указанные года и выводит ТОП-3 популярных имен. "
   ]
  },
  {
   "cell_type": "markdown",
   "metadata": {},
   "source": [
    "Например:\n",
    "   \n",
    "        count_top3([1880]) == ['John', 'William', 'Mary']\n",
    "        count_top3([1900, 1950, 2000]) == ['James', 'John', 'Robert']"
   ]
  },
  {
   "cell_type": "code",
   "execution_count": 21,
   "metadata": {},
   "outputs": [],
   "source": [
    "import os\n",
    "\n",
    "import pandas as pd       "
   ]
  },
  {
   "cell_type": "code",
   "execution_count": 22,
   "metadata": {
    "collapsed": true
   },
   "outputs": [],
   "source": [
    "data_path = os.path.join(os.getcwd(), 'names')"
   ]
  },
  {
   "cell_type": "code",
   "execution_count": 49,
   "metadata": {
    "collapsed": true
   },
   "outputs": [],
   "source": [
    "def count_top3(list_years):\n",
    "    cols = ['Name', 'Gender', 'Count']\n",
    "    i = 0\n",
    "    for year in list_years:\n",
    "        names_frame = pd.read_csv(\n",
    "            os.path.join(data_path, 'yob' + str(year) +'.txt'), \n",
    "            names=cols\n",
    "        )\n",
    "        i += 1\n",
    "        if i == 1:\n",
    "            names = names_frame\n",
    "        else:\n",
    "            names = names.append(names_frame)\n",
    "            \n",
    "    if len(list_years) > 0:\n",
    "        names.sort_values(by='Count', ascending=False)\n",
    "        return [a for a in names.Name.head(3)]"
   ]
  },
  {
   "cell_type": "code",
   "execution_count": 58,
   "metadata": {},
   "outputs": [
    {
     "data": {
      "text/plain": [
       "['Linda', 'Mary', 'Patricia']"
      ]
     },
     "execution_count": 58,
     "metadata": {},
     "output_type": "execute_result"
    }
   ],
   "source": [
    "count_top3([1950,1900])"
   ]
  }
 ],
 "metadata": {
  "kernelspec": {
   "display_name": "Python 3",
   "language": "python",
   "name": "python3"
  },
  "language_info": {
   "codemirror_mode": {
    "name": "ipython",
    "version": 3
   },
   "file_extension": ".py",
   "mimetype": "text/x-python",
   "name": "python",
   "nbconvert_exporter": "python",
   "pygments_lexer": "ipython3",
   "version": "3.6.3"
  }
 },
 "nbformat": 4,
 "nbformat_minor": 2
}
