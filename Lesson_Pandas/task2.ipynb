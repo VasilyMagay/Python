{
 "cells": [
  {
   "cell_type": "markdown",
   "metadata": {},
   "source": [
    "# Задача №2\n",
    "\n",
    "С использованием Pandas написать функцию, которая возвращает динамику изменения количества имен за указанные года в разрезе полов. Например:"
   ]
  },
  {
   "cell_type": "markdown",
   "metadata": {},
   "source": [
    "count_dynamics([1900, 1950, 2000]) == {\n",
    "          'F': [299810, 1713259, 1814922],\n",
    "          'M': [150486, 1790871, 1962744]\n",
    "        }"
   ]
  },
  {
   "cell_type": "code",
   "execution_count": 1,
   "metadata": {
    "collapsed": true
   },
   "outputs": [],
   "source": [
    "import os\n",
    "\n",
    "import pandas as pd "
   ]
  },
  {
   "cell_type": "code",
   "execution_count": 2,
   "metadata": {
    "collapsed": true
   },
   "outputs": [],
   "source": [
    "data_path = os.path.join(os.getcwd(), 'names')"
   ]
  },
  {
   "cell_type": "code",
   "execution_count": 40,
   "metadata": {},
   "outputs": [],
   "source": [
    "def count_dynamics(list_years):\n",
    "    cols = ['Name', 'Gender', 'Count']\n",
    "    res = {'F':[], 'M':[]}\n",
    "    for year in list_years:\n",
    "        names_frame = pd.read_csv(\n",
    "            os.path.join(data_path, 'yob' + str(year) +'.txt'), \n",
    "            names=cols\n",
    "        )\n",
    "        names_var = names_frame.groupby('Gender').sum()\n",
    "        names_var = names_var.reset_index()        \n",
    "   \n",
    "        for el in names_var[names_var.Gender=='F'].Count:\n",
    "            res['F'].append(el)\n",
    "        for el in names_var[names_var.Gender=='M'].Count:\n",
    "            res['M'].append(el)\n",
    "\n",
    "    return res"
   ]
  },
  {
   "cell_type": "code",
   "execution_count": 42,
   "metadata": {},
   "outputs": [
    {
     "data": {
      "text/plain": [
       "{'F': [299810, 1713259, 1814922], 'M': [150486, 1790871, 1962744]}"
      ]
     },
     "execution_count": 42,
     "metadata": {},
     "output_type": "execute_result"
    }
   ],
   "source": [
    "count_dynamics([1900, 1950, 2000])"
   ]
  }
 ],
 "metadata": {
  "kernelspec": {
   "display_name": "Python 3",
   "language": "python",
   "name": "python3"
  },
  "language_info": {
   "codemirror_mode": {
    "name": "ipython",
    "version": 3
   },
   "file_extension": ".py",
   "mimetype": "text/x-python",
   "name": "python",
   "nbconvert_exporter": "python",
   "pygments_lexer": "ipython3",
   "version": "3.6.3"
  }
 },
 "nbformat": 4,
 "nbformat_minor": 2
}
